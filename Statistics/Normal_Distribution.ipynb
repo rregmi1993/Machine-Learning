{
  "nbformat": 4,
  "nbformat_minor": 0,
  "metadata": {
    "colab": {
      "provenance": [],
      "authorship_tag": "ABX9TyPC7xLoW/29UFuV2J+MXei3",
      "include_colab_link": true
    },
    "kernelspec": {
      "name": "python3",
      "display_name": "Python 3"
    },
    "language_info": {
      "name": "python"
    }
  },
  "cells": [
    {
      "cell_type": "markdown",
      "metadata": {
        "id": "view-in-github",
        "colab_type": "text"
      },
      "source": [
        "<a href=\"https://colab.research.google.com/github/rregmi1993/Machine-Learning/blob/main/Statistics/Normal_Distribution.ipynb\" target=\"_parent\"><img src=\"https://colab.research.google.com/assets/colab-badge.svg\" alt=\"Open In Colab\"/></a>"
      ]
    },
    {
      "cell_type": "code",
      "execution_count": 9,
      "metadata": {
        "id": "NqCh_wz4rWPC"
      },
      "outputs": [],
      "source": [
        "import pandas as pd\n",
        "import matplotlib.pyplot as plt\n",
        "import numpy as np\n",
        "import math"
      ]
    },
    {
      "cell_type": "code",
      "source": [
        "mu =0\n",
        "sigma = 0.1"
      ],
      "metadata": {
        "id": "ZH1FRQNUuBkS"
      },
      "execution_count": 13,
      "outputs": []
    },
    {
      "cell_type": "code",
      "source": [
        "sample = np.random.normal(loc=0, scale=0.1, size=1000)"
      ],
      "metadata": {
        "id": "EwkMsfq1rjK6"
      },
      "execution_count": 5,
      "outputs": []
    },
    {
      "cell_type": "code",
      "source": [
        "sample"
      ],
      "metadata": {
        "colab": {
          "base_uri": "https://localhost:8080/"
        },
        "id": "hVPPiXmars5w",
        "outputId": "3e316d26-fdc1-433a-8bd5-b889e20a526e"
      },
      "execution_count": 6,
      "outputs": [
        {
          "output_type": "execute_result",
          "data": {
            "text/plain": [
              "array([-1.18901921e-01,  2.28454245e-02,  1.92271543e-02,  2.92904217e-02,\n",
              "       -7.04901232e-03,  1.89529242e-01, -1.56101035e-01, -1.92832433e-01,\n",
              "        7.32633521e-02,  1.94082049e-01, -1.56506191e-01,  1.13804723e-01,\n",
              "        2.60351143e-02,  1.15061794e-01, -8.08082525e-03,  1.14950306e-02,\n",
              "       -1.70710657e-01,  1.75060253e-01,  6.77092942e-02, -4.89782471e-02,\n",
              "       -7.16031361e-02,  1.08203061e-01,  1.90255398e-02,  1.13317870e-01,\n",
              "       -1.56937262e-01, -2.32953478e-02,  3.49926180e-02, -9.70862458e-02,\n",
              "        6.14986337e-02, -1.24051018e-01,  8.51213329e-02, -1.22325775e-01,\n",
              "       -1.28158736e-02,  9.02087687e-02,  1.31902498e-01,  1.19122770e-01,\n",
              "       -1.40950915e-01, -7.41661068e-02,  3.44260988e-02, -9.48492541e-02,\n",
              "        6.03713285e-02,  7.15789518e-02, -6.68935201e-02,  1.73478550e-01,\n",
              "       -1.65415997e-01,  1.16935502e-01, -9.30929860e-02, -5.41477826e-02,\n",
              "       -8.39033435e-02,  1.28995160e-02, -1.88715110e-01, -2.09217979e-02,\n",
              "       -1.03588775e-01, -1.37048635e-01, -3.61293874e-02, -1.53710531e-01,\n",
              "        1.24962465e-01, -5.04736076e-02,  1.48242658e-01,  7.75019483e-02,\n",
              "       -2.17779135e-01,  9.71463042e-02,  1.24353673e-01, -9.85239945e-02,\n",
              "        1.65048915e-03,  1.25786053e-01,  9.54146188e-03,  9.60065798e-02,\n",
              "       -9.70916190e-02, -9.07696226e-02,  1.07534698e-01,  1.54009000e-01,\n",
              "       -1.97281121e-02,  1.60789099e-01, -2.35635896e-01,  4.64856664e-02,\n",
              "       -4.19264990e-02,  1.49836742e-01,  8.05321770e-02,  1.53263569e-01,\n",
              "       -4.88649811e-02,  1.18420566e-01, -1.23042697e-02,  1.27874457e-01,\n",
              "       -8.58576805e-02, -7.24384022e-03, -1.10528589e-01,  4.51421448e-02,\n",
              "       -9.04125121e-02, -7.89235324e-02,  2.54975855e-01,  1.92592299e-01,\n",
              "        4.36416535e-02,  1.97183595e-01, -1.38043736e-02, -3.75878597e-02,\n",
              "       -1.00232818e-01, -5.65568737e-02, -1.69198806e-01, -3.95196236e-03,\n",
              "       -5.52703772e-02, -4.47778947e-02,  8.72597378e-02, -2.06393589e-01,\n",
              "        1.99551703e-01,  1.48746902e-01, -6.51610401e-02, -8.59930973e-02,\n",
              "       -2.17680496e-02, -8.19131056e-02,  1.54799272e-02, -2.42921637e-02,\n",
              "       -4.05642281e-02, -1.85541610e-01, -1.28185773e-02, -5.79957736e-02,\n",
              "        1.40075209e-01,  5.92447801e-02,  2.07024210e-01, -2.28377885e-02,\n",
              "       -3.36472628e-02, -2.20816269e-02, -5.75340349e-02, -2.95231817e-01,\n",
              "       -4.02369774e-02, -1.45401004e-01,  3.52725420e-02,  6.22637138e-03,\n",
              "        5.71749910e-02, -5.39720484e-02, -1.56001153e-01,  2.39728719e-03,\n",
              "       -1.10154160e-01, -1.09657169e-02, -1.11121337e-01,  9.56590800e-02,\n",
              "       -1.81257798e-02,  2.32596355e-02,  3.30137634e-02,  2.73971385e-02,\n",
              "       -6.32386021e-02, -1.76688398e-02,  2.10614751e-02,  7.16873920e-02,\n",
              "        1.23331672e-01,  2.72167670e-01,  2.35824802e-02,  1.55170760e-01,\n",
              "        1.00374023e-01, -9.94175572e-02,  1.20616769e-01, -9.14511456e-03,\n",
              "       -1.20894113e-01, -1.18008967e-01,  8.03837562e-02, -4.61119188e-02,\n",
              "        6.57048933e-02, -1.99618034e-01,  8.80235754e-02, -7.87252809e-02,\n",
              "       -3.53558184e-02, -2.88604512e-03, -3.48718179e-02,  1.59766143e-02,\n",
              "       -7.54872135e-02,  3.85648570e-02, -1.26097543e-01,  5.58279349e-02,\n",
              "       -3.98380418e-02,  1.55688805e-01,  6.90163221e-02, -1.17372437e-01,\n",
              "       -3.12987018e-02, -2.62650924e-01, -7.87567377e-02,  1.59454787e-01,\n",
              "        9.75763544e-02, -2.66767532e-02,  1.96168803e-01,  3.43455042e-02,\n",
              "       -8.44985460e-02, -3.03717414e-02, -1.49758875e-01, -1.92517205e-01,\n",
              "       -1.38177322e-01, -4.72949923e-02,  4.65512371e-02, -5.43000164e-02,\n",
              "        7.78330181e-02,  2.19817355e-01, -5.57650564e-02, -8.14143605e-02,\n",
              "       -4.44559907e-02, -1.96072506e-02,  8.32380852e-03,  9.86375894e-02,\n",
              "        9.86121677e-02,  8.25897147e-02,  7.43013025e-03, -3.43181359e-02,\n",
              "        1.05557608e-02, -1.72146475e-01, -8.18503024e-03,  8.50096070e-02,\n",
              "       -8.91248921e-02,  2.57896610e-02,  1.34672715e-01, -1.53776246e-01,\n",
              "        5.51570916e-02, -1.21908162e-01, -6.04061722e-03,  7.19228677e-02,\n",
              "       -3.23288009e-02, -2.31629106e-02, -1.22414256e-02,  1.61122293e-01,\n",
              "       -1.37043099e-01,  3.19472929e-02,  1.26041709e-01,  2.59415670e-02,\n",
              "       -5.20957319e-03,  7.93555103e-02, -4.84439782e-02, -4.37771787e-02,\n",
              "       -7.91302923e-02, -8.44946158e-02, -3.70721761e-02,  4.68689487e-02,\n",
              "       -4.31485378e-03,  5.48130226e-02, -1.88561381e-01, -3.72659368e-02,\n",
              "        3.24782571e-02, -1.30724182e-01, -7.56837520e-02, -1.20297407e-01,\n",
              "       -4.98995617e-02, -9.43022175e-02,  4.71368475e-02,  1.32919732e-02,\n",
              "       -6.64203534e-02,  1.88982213e-01, -9.03017116e-02,  6.06832535e-02,\n",
              "        1.36526095e-01, -4.15288722e-02, -1.86590886e-01, -5.81774500e-03,\n",
              "       -1.94093824e-03,  9.12654420e-02, -1.43877089e-03, -6.88931891e-02,\n",
              "       -1.48798148e-01,  2.10558178e-01,  8.56763036e-02, -1.30021371e-01,\n",
              "       -3.28163349e-02, -4.75174748e-02,  1.16471465e-01,  6.11739050e-02,\n",
              "        1.84485210e-02,  1.60757371e-02,  1.01044905e-01, -4.01061504e-02,\n",
              "       -1.14780971e-01, -8.15682778e-02, -2.55745536e-02, -1.13530341e-01,\n",
              "        8.06763641e-02,  4.64784521e-02, -1.75764557e-01,  9.81488713e-02,\n",
              "       -4.45315561e-02, -2.84762192e-02,  9.58380987e-02,  4.30421920e-03,\n",
              "        1.57307714e-02, -6.52137915e-04,  2.47620395e-02,  3.52843229e-02,\n",
              "       -9.16818313e-02, -2.20501228e-02, -1.83793287e-01,  5.75915475e-02,\n",
              "        1.78790821e-02,  9.29352313e-02, -6.30377968e-03,  2.06808525e-02,\n",
              "       -1.23437016e-01, -3.11401969e-02,  4.31325317e-02, -6.05646790e-02,\n",
              "       -4.94356340e-02, -9.18163349e-02,  2.86109057e-01, -3.75669712e-03,\n",
              "       -1.01419064e-01,  9.76427323e-03,  1.37713696e-01, -1.50202681e-01,\n",
              "        9.56334939e-02, -3.17113445e-02,  1.16511396e-01,  3.86323391e-02,\n",
              "       -6.37208050e-02,  9.61678948e-02, -1.23497312e-01, -7.93555614e-02,\n",
              "        2.82176636e-02,  4.72027055e-04, -1.07773356e-01, -7.52008683e-02,\n",
              "        2.30531777e-02, -7.42667230e-02, -5.19227157e-02,  8.81395892e-03,\n",
              "        3.52151004e-02, -6.08535449e-02,  1.11165824e-02, -2.48960975e-02,\n",
              "       -6.51389473e-02, -2.22640677e-01, -1.43634582e-01,  2.59790645e-02,\n",
              "       -7.83467212e-02,  1.55247967e-01, -1.48719759e-01, -6.01398940e-02,\n",
              "        6.93966943e-02,  3.04193270e-02,  1.44314932e-02,  2.95938590e-02,\n",
              "        9.03353299e-02,  7.91778507e-02,  9.68792562e-02,  2.38959813e-03,\n",
              "        8.85747137e-02, -8.77798144e-02,  1.68530289e-01, -1.34446734e-01,\n",
              "        1.27986510e-01,  2.09380357e-02,  6.30532392e-03, -1.10938020e-02,\n",
              "        1.69313311e-02,  9.18295458e-02, -1.08412900e-01,  9.33290559e-02,\n",
              "       -4.44108084e-03, -4.70169069e-03,  5.94323673e-02, -2.28707613e-02,\n",
              "        1.38358723e-01, -7.88997391e-02, -1.95391796e-02,  1.17400505e-01,\n",
              "        1.01476824e-01, -6.20341310e-02,  2.61842255e-01,  1.21520114e-01,\n",
              "       -2.60086326e-02, -1.55732610e-02,  1.29591499e-01, -2.52097423e-02,\n",
              "       -1.42504959e-02, -1.47330826e-01, -4.32647403e-02,  6.22451025e-02,\n",
              "       -1.61979700e-02, -4.18727581e-02, -1.71498602e-01, -2.16798914e-02,\n",
              "        8.49579318e-02, -1.41394382e-01, -5.18016521e-03, -1.44266810e-01,\n",
              "        3.78609981e-04,  3.68569168e-02,  1.30729123e-01,  9.61659112e-03,\n",
              "       -9.12686600e-03,  1.81630716e-02, -6.04023684e-02, -4.54748005e-02,\n",
              "        2.22513826e-03, -1.34610620e-02, -1.26208011e-01,  1.81022884e-01,\n",
              "       -1.41336340e-02, -1.11327701e-01, -1.22318908e-01,  1.09814285e-01,\n",
              "       -1.21174472e-02, -8.47680640e-02,  1.88607284e-01,  1.40645575e-01,\n",
              "       -4.77087113e-02, -1.31240493e-01, -9.03766933e-02, -7.55258049e-02,\n",
              "       -3.00450343e-03,  4.98456086e-02,  6.77974371e-02,  3.26834823e-02,\n",
              "        4.08253424e-02, -1.33272262e-01, -8.15592233e-02, -3.90763899e-02,\n",
              "       -6.42409954e-02, -6.36065448e-02,  4.51201783e-02,  7.77562958e-02,\n",
              "       -2.92466011e-02, -5.19615484e-02,  4.88160118e-02,  1.00255296e-01,\n",
              "        2.07400383e-01, -1.35501625e-01, -5.25844370e-02, -3.35082330e-02,\n",
              "       -4.28408322e-02, -2.32985535e-02,  2.17093985e-01, -4.38488102e-02,\n",
              "        1.22206103e-01,  2.04254654e-02,  6.65355021e-02, -6.71674833e-02,\n",
              "       -4.23447893e-02, -1.10910486e-01, -3.77653386e-02,  1.01658540e-01,\n",
              "        2.17723198e-01, -1.65723586e-01,  6.97375206e-02,  1.39036083e-01,\n",
              "        8.57066463e-03, -3.30707655e-02,  5.44330371e-02,  1.03962143e-01,\n",
              "        9.23604645e-02,  1.35760363e-01,  6.45861222e-02,  4.34872491e-02,\n",
              "        1.06680138e-01,  9.19069501e-02, -1.57618752e-02, -1.04128287e-01,\n",
              "        1.92398981e-02,  8.69451229e-02,  1.29138933e-02,  1.86663196e-02,\n",
              "        2.07623258e-02, -1.60767150e-02,  1.65933481e-01,  3.32771526e-02,\n",
              "       -1.79125890e-01, -2.62152260e-02,  1.05922781e-01,  1.25760830e-01,\n",
              "       -6.73218479e-02,  3.29662720e-02,  6.13741814e-02, -9.17444915e-02,\n",
              "       -1.37176733e-01,  4.44569350e-02, -1.70045928e-02,  9.08459318e-02,\n",
              "        4.41560166e-02,  8.49568000e-02,  1.61612965e-01,  1.80525894e-01,\n",
              "        6.62475364e-02, -3.95689705e-03,  1.58864613e-01,  6.03303634e-02,\n",
              "        2.33583433e-03,  8.97317347e-02,  7.48449915e-02, -2.39671252e-02,\n",
              "        4.80672789e-02, -6.55832219e-02,  1.10284444e-01, -1.36555783e-02,\n",
              "        5.24979917e-02, -5.69338559e-02,  3.20893242e-03, -7.00045281e-03,\n",
              "       -4.82066881e-02,  5.00862967e-02,  1.81742098e-02,  4.31622782e-02,\n",
              "       -1.39285498e-01, -1.88868743e-02, -1.26585106e-01,  4.26229369e-02,\n",
              "       -8.99260350e-02,  9.01829863e-02,  1.12250001e-01, -1.36062933e-02,\n",
              "        7.49340234e-02, -7.06139333e-03, -3.43550016e-02, -4.41964020e-02,\n",
              "        1.43391972e-01,  1.44616730e-02, -4.56934692e-02, -3.20184020e-02,\n",
              "       -5.47222035e-02,  7.59077895e-02, -3.38730822e-03, -2.00255956e-01,\n",
              "       -3.47669790e-03, -6.19957353e-02, -5.96133419e-02,  1.20218160e-01,\n",
              "        1.98770886e-02,  3.69142984e-03, -1.26227596e-01, -1.20515460e-01,\n",
              "        2.12747354e-02, -6.00353738e-02,  3.39241583e-02, -1.42927168e-01,\n",
              "        4.58975929e-02, -2.92966673e-02, -1.69932018e-01, -9.43411024e-02,\n",
              "        2.77874138e-02,  1.31942990e-01,  5.05982571e-02,  7.42924679e-02,\n",
              "       -6.06564479e-03, -4.54846731e-02,  1.66218190e-01, -8.65684811e-02,\n",
              "        9.16290715e-02,  6.06049444e-02,  6.18727601e-02,  2.02108380e-02,\n",
              "        1.31845715e-01, -1.79567959e-01,  1.13730371e-03,  1.37670262e-02,\n",
              "       -9.55378251e-02,  8.18393496e-02, -9.66892415e-02,  2.30891335e-01,\n",
              "        5.06785207e-02, -4.65522294e-02, -5.94310362e-02, -1.43019218e-01,\n",
              "        2.08193352e-01,  8.43158945e-04,  4.69308470e-02,  9.01849979e-02,\n",
              "       -1.36316919e-01,  7.21393830e-03, -6.03207972e-02, -1.71728226e-01,\n",
              "       -4.76953960e-02,  3.21932498e-02,  1.45593173e-02, -6.06073795e-03,\n",
              "        1.94726147e-04, -5.39583695e-02, -5.40151229e-02,  1.06300537e-01,\n",
              "       -5.87018595e-02, -4.74489601e-02, -6.22521187e-02, -3.17307918e-02,\n",
              "       -2.66264360e-02, -2.38774376e-01, -8.16499112e-02, -9.41038350e-03,\n",
              "        1.13492070e-01,  5.80998928e-02, -1.02171897e-01, -2.25754739e-03,\n",
              "       -4.85425482e-02, -1.84093801e-01,  2.51115056e-02, -3.09799283e-03,\n",
              "        1.00127608e-01,  3.93217239e-02,  2.11482116e-02, -2.85788246e-02,\n",
              "       -3.37217454e-02,  6.64932499e-02,  1.11499203e-01,  9.13107993e-02,\n",
              "        6.70906974e-02,  3.52899662e-03, -1.61099393e-01,  9.54696188e-02,\n",
              "        2.15668165e-01,  1.14526111e-01,  9.76703974e-02, -1.50935142e-02,\n",
              "        9.40897913e-02,  1.59946886e-02, -1.01020582e-01, -1.86581005e-01,\n",
              "        1.08698673e-01,  2.43165545e-02, -1.97060253e-01,  5.63323856e-02,\n",
              "       -8.28376375e-03,  8.12216380e-02, -1.11298868e-01,  8.44269783e-02,\n",
              "        1.68744845e-01, -3.59694211e-03,  1.77148785e-01,  8.29702530e-02,\n",
              "        6.00929702e-03,  4.85673328e-02,  4.62997184e-02,  1.04500220e-03,\n",
              "        2.08839295e-01, -6.10104662e-02,  1.30429728e-01,  9.20156424e-02,\n",
              "        5.14985931e-04, -1.17610748e-01, -4.19188780e-03, -1.14040363e-01,\n",
              "        2.69922926e-01,  1.64798719e-02, -8.61626371e-02,  7.76478644e-02,\n",
              "        4.11722882e-02,  3.71605350e-02,  4.92700167e-02,  1.45486918e-01,\n",
              "        5.35507628e-02,  1.11759526e-01,  3.53039359e-03,  2.36462179e-02,\n",
              "       -2.54420565e-01, -8.18452897e-03, -2.11345406e-01,  2.32474507e-01,\n",
              "        1.02470071e-01, -3.79828628e-02, -1.00161216e-01, -1.13563191e-01,\n",
              "        1.11175280e-01,  1.75735901e-01,  2.19674082e-02, -3.48423377e-02,\n",
              "        1.11573565e-01, -9.22834218e-03,  2.34887303e-01, -2.59466097e-03,\n",
              "       -1.03524646e-01, -1.53851583e-01, -6.06362228e-02, -5.11566788e-02,\n",
              "        2.91687342e-02, -6.47669023e-02,  1.15819862e-01,  1.78582710e-02,\n",
              "        2.57779797e-01, -7.79937199e-02,  9.30676098e-02, -4.22640281e-02,\n",
              "       -1.22351435e-01, -3.51694273e-02, -7.02471381e-02, -3.90747478e-02,\n",
              "       -7.37385899e-02, -1.11767379e-01, -1.14178215e-01, -5.74634825e-02,\n",
              "       -1.85491330e-01,  6.15604067e-02,  7.30659748e-02, -1.37621833e-01,\n",
              "        4.61553830e-02, -1.82968802e-01,  3.72298479e-02, -4.59213478e-02,\n",
              "        1.06434123e-01,  1.74147939e-02,  6.84321089e-02, -1.53125279e-01,\n",
              "       -1.88985496e-01, -1.19877257e-01,  7.71006809e-02,  4.39999832e-02,\n",
              "        3.90980133e-03,  2.76600072e-02, -2.46545091e-02, -2.01837926e-01,\n",
              "       -3.42744197e-02,  9.18556959e-02,  6.92086610e-02, -1.07602903e-01,\n",
              "        7.55526879e-02, -1.84378662e-01,  1.99818657e-02, -4.41282092e-02,\n",
              "        1.09120396e-01, -6.19709325e-02, -8.40681687e-02,  3.58579965e-02,\n",
              "       -1.06021173e-01,  1.02172298e-01, -1.27609862e-01,  6.96720295e-02,\n",
              "        9.84399534e-02,  9.06637461e-02, -9.05392491e-02,  7.10695671e-02,\n",
              "        7.84861083e-02, -1.33216372e-02, -8.59103022e-02,  2.12246547e-01,\n",
              "        2.53997027e-02,  1.55717746e-01, -4.18363597e-02,  8.46595763e-02,\n",
              "        6.12188852e-02,  3.85229273e-02, -2.63037162e-01,  1.09578600e-01,\n",
              "       -4.56101404e-03,  8.23405245e-02, -6.28907772e-03,  5.63894066e-03,\n",
              "        1.18440780e-01,  7.32933124e-02,  5.13127460e-02, -7.07867417e-02,\n",
              "       -1.00550126e-01,  9.98113276e-03,  4.73917129e-02, -6.54165489e-02,\n",
              "       -2.43631472e-01,  5.31264409e-02,  3.43833103e-03,  1.43043725e-02,\n",
              "        1.58132384e-02,  1.80385191e-02, -3.86225724e-02, -4.69010849e-02,\n",
              "       -6.10322783e-02, -1.86335494e-02, -7.08906090e-02, -1.01517975e-02,\n",
              "       -1.28658525e-01,  1.16716644e-01, -7.04862179e-02,  1.92128513e-02,\n",
              "       -1.26461987e-02,  6.27194093e-02,  1.36445584e-01,  1.68242986e-01,\n",
              "        6.58514345e-02,  5.93353079e-02,  9.40880464e-02, -3.68853481e-03,\n",
              "       -5.00301554e-02,  1.51750890e-01, -1.39633023e-01,  4.40650445e-02,\n",
              "        1.34680998e-04, -6.65872220e-02, -6.80099811e-02,  6.41574946e-02,\n",
              "        9.34049406e-02, -5.25199296e-02,  1.08663694e-02,  8.82174778e-02,\n",
              "        1.21578506e-01,  4.01182791e-02,  4.10293821e-02, -4.67554796e-02,\n",
              "        2.87988456e-03, -5.59596183e-02,  6.98599405e-02,  2.34184443e-02,\n",
              "       -9.58493373e-02,  1.03982736e-03,  9.51819132e-02,  2.44685464e-03,\n",
              "       -3.19697384e-02, -9.56712703e-02,  6.06028938e-02,  1.58310706e-02,\n",
              "        9.37252863e-02, -9.28606414e-02, -8.91212868e-02,  1.53832932e-01,\n",
              "        9.87468305e-02,  8.02639085e-03, -7.89138481e-02,  1.31657035e-01,\n",
              "       -2.82759901e-02,  8.30437298e-02,  1.54239551e-01,  5.48075388e-02,\n",
              "       -9.02929684e-02,  1.71052389e-01,  7.75441152e-02, -6.57812861e-02,\n",
              "       -1.54719287e-02, -8.06155072e-02,  1.47348437e-02, -1.00391032e-01,\n",
              "       -3.64316456e-02,  5.10818857e-02, -1.15321917e-01, -9.40074390e-02,\n",
              "        1.41047473e-02,  3.13419552e-02, -4.99820792e-02,  1.19979874e-01,\n",
              "        3.72556753e-02,  4.18982942e-02, -8.58477233e-02,  6.67079051e-02,\n",
              "        2.00935269e-02,  1.16374598e-01,  2.42656160e-02, -2.96035521e-02,\n",
              "       -2.07727768e-01, -8.74925271e-02,  1.34370252e-02, -1.08139132e-01,\n",
              "       -9.36072700e-03,  7.53610621e-02,  1.00574407e-01,  6.69068648e-02,\n",
              "       -1.00560806e-01,  1.87246372e-02, -2.93386520e-02,  9.22139162e-02,\n",
              "        1.31740921e-02, -1.43440256e-01, -1.32540687e-01, -2.82725681e-02,\n",
              "        1.48562154e-02, -6.79800679e-02, -4.32712259e-02, -2.89755680e-02,\n",
              "       -9.52118302e-02, -2.33306775e-02, -6.25288237e-02, -1.17384520e-01,\n",
              "       -1.02456877e-01, -1.24460068e-01, -7.47555762e-02, -1.20104039e-01,\n",
              "       -3.77453512e-02,  1.01351589e-01, -4.00574865e-02,  3.86004589e-02,\n",
              "       -6.28471000e-02,  4.34124382e-02, -1.56513240e-03,  7.18651864e-03,\n",
              "        2.07036235e-02,  4.29998114e-02, -1.42728062e-01,  2.50190398e-02,\n",
              "       -6.39921093e-02, -1.16047229e-01,  6.57234400e-02, -1.51338781e-02,\n",
              "        1.74829822e-02,  5.38670759e-02, -1.21017395e-01,  3.12556795e-02,\n",
              "        1.04042257e-01,  1.51089027e-01,  1.42385506e-01,  5.04433925e-02,\n",
              "       -6.31476561e-02,  2.52102333e-01,  7.29523288e-02,  9.69342153e-02,\n",
              "        9.35539860e-02, -9.46447292e-02,  1.23677578e-01,  1.72333052e-01,\n",
              "        5.35034390e-02, -4.78977753e-02,  1.04803881e-02, -3.78940113e-02,\n",
              "       -4.67034038e-02, -5.61924627e-02, -4.99311731e-03,  5.12825848e-02,\n",
              "        1.09471789e-01,  4.74066088e-02,  3.53053890e-03,  3.67632209e-02,\n",
              "       -7.74773843e-02,  1.25961001e-01, -1.75636098e-01,  3.48922074e-02,\n",
              "       -1.11696249e-02, -5.84750628e-02, -7.29286783e-02,  3.09640629e-02,\n",
              "       -1.46698670e-02,  3.69450805e-02, -1.37404438e-01,  1.98883472e-02,\n",
              "       -2.49241471e-02,  2.70840850e-03,  6.93074025e-02, -1.40389500e-01,\n",
              "       -9.77157486e-02,  2.34454393e-01, -7.42091255e-02, -1.29306679e-02,\n",
              "        1.10045894e-01, -1.10879196e-01, -8.02799658e-02,  1.04871423e-01,\n",
              "        4.87186701e-02,  4.46520569e-02, -3.71913215e-02, -9.69803960e-02,\n",
              "       -9.05609271e-02,  1.11121286e-02,  9.62116457e-02,  9.04257416e-02,\n",
              "        9.50467456e-02,  7.53221473e-02,  4.75436942e-02, -6.46593878e-02,\n",
              "        1.35833277e-01,  5.40662965e-02,  1.71331304e-01,  5.89436093e-02,\n",
              "        1.34888400e-01, -1.40161472e-01,  9.14209030e-02, -2.54724147e-01,\n",
              "        3.15174700e-02,  3.66737517e-02,  6.27836435e-02,  7.73355996e-02,\n",
              "       -1.47430861e-02,  3.48961512e-02, -1.12649852e-02, -9.86178518e-02,\n",
              "       -2.20258274e-01,  1.03823665e-02, -6.50113125e-02,  5.78575355e-02,\n",
              "       -3.99389853e-02,  2.95029923e-02,  1.42311454e-02, -5.96153412e-03,\n",
              "       -1.01624393e-01, -3.57900207e-02,  1.58788115e-02, -1.23979432e-01,\n",
              "        1.11033621e-02, -1.13732319e-01,  2.84268750e-02,  1.21122417e-01,\n",
              "        4.46843163e-02,  1.59507120e-02, -1.31265807e-01,  2.14964611e-02,\n",
              "        1.01289275e-01,  1.75046399e-02, -5.26081405e-02, -1.32718024e-01,\n",
              "        4.10640071e-02, -5.89171220e-04, -1.45039856e-01, -6.99135066e-02,\n",
              "       -1.26035566e-01,  4.68899380e-02,  4.46077415e-02, -2.28654825e-02,\n",
              "        1.23130976e-01,  7.50391665e-02, -6.45761774e-02, -1.36841614e-01,\n",
              "        1.32377146e-01,  1.63092075e-01, -1.45833182e-03, -1.24304201e-02,\n",
              "        8.53256366e-02, -3.35624486e-02,  5.80657536e-02, -7.26252435e-02,\n",
              "       -1.39455959e-01, -1.38210674e-01,  2.86682568e-02, -1.35321001e-02])"
            ]
          },
          "metadata": {},
          "execution_count": 6
        }
      ]
    },
    {
      "cell_type": "code",
      "source": [
        "plt.figure(figsize=(10, 10))\n",
        "count, bin, ignored = plt.hist(sample, 30, density=True)\n",
        "plt.plot(bin, 1/(sigma * np.sqrt(2 * np.pi)) * np.exp(- (bin- mu)**2 / (2 * sigma**2)),\n",
        "         linewidth=2, color='r')\n",
        "plt.show()"
      ],
      "metadata": {
        "colab": {
          "base_uri": "https://localhost:8080/",
          "height": 660
        },
        "id": "1DL0TBvqrt9o",
        "outputId": "98c7e715-7b53-4301-e3c8-4ef32179c916"
      },
      "execution_count": 15,
      "outputs": [
        {
          "output_type": "display_data",
          "data": {
            "text/plain": [
              "<Figure size 1000x1000 with 1 Axes>"
            ],
            "image/png": "[encoded data removed]"
          },
          "metadata": {}
        }
      ]
    },
    {
      "cell_type": "code",
      "source": [
        "np.sigma"
      ],
      "metadata": {
        "colab": {
          "base_uri": "https://localhost:8080/",
          "height": 297
        },
        "id": "FjkLWvrztt5y",
        "outputId": "c269a2c4-91d8-4773-a1dc-f32920d9266c"
      },
      "execution_count": 12,
      "outputs": [
        {
          "output_type": "error",
          "ename": "AttributeError",
          "evalue": "module 'numpy' has no attribute 'sigma'",
          "traceback": [
            "\u001b[0;31m---------------------------------------------------------------------------\u001b[0m",
            "\u001b[0;31mAttributeError\u001b[0m                            Traceback (most recent call last)",
            "\u001b[0;32m<ipython-input-12-7f2cafd8fb2a>\u001b[0m in \u001b[0;36m<cell line: 1>\u001b[0;34m()\u001b[0m\n\u001b[0;32m----> 1\u001b[0;31m \u001b[0mnp\u001b[0m\u001b[0;34m.\u001b[0m\u001b[0msigma\u001b[0m\u001b[0;34m\u001b[0m\u001b[0;34m\u001b[0m\u001b[0m\n\u001b[0m",
            "\u001b[0;32m/usr/local/lib/python3.10/dist-packages/numpy/__init__.py\u001b[0m in \u001b[0;36m__getattr__\u001b[0;34m(attr)\u001b[0m\n\u001b[1;32m    309\u001b[0m             \u001b[0;32mreturn\u001b[0m \u001b[0mTester\u001b[0m\u001b[0;34m\u001b[0m\u001b[0;34m\u001b[0m\u001b[0m\n\u001b[1;32m    310\u001b[0m \u001b[0;34m\u001b[0m\u001b[0m\n\u001b[0;32m--> 311\u001b[0;31m         raise AttributeError(\"module {!r} has no attribute \"\n\u001b[0m\u001b[1;32m    312\u001b[0m                              \"{!r}\".format(__name__, attr))\n\u001b[1;32m    313\u001b[0m \u001b[0;34m\u001b[0m\u001b[0m\n",
            "\u001b[0;31mAttributeError\u001b[0m: module 'numpy' has no attribute 'sigma'"
          ]
        }
      ]
    },
    {
      "cell_type": "code",
      "source": [],
      "metadata": {
        "id": "nmTSkGFdr5JC"
      },
      "execution_count": null,
      "outputs": []
    }
  ]
}