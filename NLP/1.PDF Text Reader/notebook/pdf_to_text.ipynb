{
  "nbformat": 4,
  "nbformat_minor": 0,
  "metadata": {
    "colab": {
      "provenance": [],
      "collapsed_sections": []
    },
    "kernelspec": {
      "name": "python3",
      "display_name": "Python 3"
    },
    "language_info": {
      "name": "python"
    }
  },
  "cells": [
    {
      "cell_type": "code",
      "execution_count": 9,
      "metadata": {
        "id": "zeR6sDsLnjSd"
      },
      "outputs": [],
      "source": [
        "#!pip install pdfplumber -q"
      ]
    },
    {
      "cell_type": "code",
      "source": [
        "import pdfplumber as pp"
      ],
      "metadata": {
        "id": "0FghqgCfntIf"
      },
      "execution_count": 10,
      "outputs": []
    },
    {
      "cell_type": "code",
      "source": [
        "def get_text_from_pdf(pdf_file_name):\n",
        "  with pp.open(pdf_file_name) as pdf_file:\n",
        "    for page_no, page in enumerate(pdf_file.pages, start=1):\n",
        "      print(\"page number : \" + str(page_no))\n",
        "      data = page.extract_text()\n",
        "      print(data.strip())\n",
        "      print('_'*45)"
      ],
      "metadata": {
        "id": "MjybWY7An5nC"
      },
      "execution_count": 11,
      "outputs": []
    },
    {
      "cell_type": "code",
      "source": [
        "get_text_from_pdf('/data/journal_1.pdf')"
      ],
      "metadata": {
        "colab": {
          "base_uri": "https://localhost:8080/"
        },
        "id": "R9-JCQMtpXjr",
        "outputId": "502b493d-d658-44d7-878a-b01e0fe9fba9"
      },
      "execution_count": 12,
      "outputs": [
        {
          "output_type": "stream",
          "name": "stdout",
          "text": [
            "page number : 1\n",
            "Image Classification Using an Ant Colony Optimization \n",
            "Approach \n",
            "Tomas Piatrik and Ebroul Izquierdo \n",
            "Multimedia & Vision Research Group,  \n",
            "Queen Mary University of London \n",
            "{tomas.piatrik, ebroul.izquierdo}@elec.qmul.ac.uk \n",
            "Abstract.  Automatic  semantic  clustering  of  image  databases  is  a  very \n",
            "challenging research problem. Clustering is the unsupervised classification of \n",
            "patterns  (data  items  or  feature  vectors)  into  groups  (clusters).  Clustering \n",
            "algorithms  usually  employ  a  similarity  measure  in  order  to  partition  the \n",
            "database such that data points in the same partition are more similar than points \n",
            "in different partitions. In this paper an Ant Colony Optimization (ACO) and its \n",
            "learning mechanism is integrated with the K-means approach to solve image \n",
            "classification problems. Our simulation results show that the proposed method \n",
            "makes K-Means less dependent on the initial parameters such as randomly \n",
            "chosen initial cluster centers. Selected results from experiments of the proposed \n",
            "method using two different image databases are presented.  \n",
            "Keywords: Ant Colony Optimization (ACO), K-Means, Image Classification \n",
            "and Clustering. \n",
            "1   Introduction \n",
            "With the explosive growth of images in digital libraries, there is an increasing need \n",
            "for automatic tools to automatically annotate and organize image databases. Most \n",
            "works in automatic image annotation focused mainly on inferring high-level semantic \n",
            "information from low-level image features. Image recognition techniques facilitate \n",
            "the classification of images into semantically-meaningful categories and then label the \n",
            "images  by  the  keywords  that  have  been  manually  assigned  to  the  categories. \n",
            "However, one common effort is to implement new techniques to improve inferring \n",
            "semantic information from low-level features in order to narrow the gap between low-\n",
            "level content based image description and their semantic counterparts: The semantic \n",
            "gap.  \n",
            "The fundamental step towards key-word based automatic image annotation is \n",
            "image classification. Automatic image classification is the task of classifying images \n",
            "into semantic categories with or without supervised training. Generally speaking there \n",
            "are two types of classification schemes: supervised and unsupervised. The task of \n",
            "supervised classification requires relevance feed-back and/or correction from a human \n",
            "annotator.  On  the  contrary,  unsupervised  classification  does  not  require  human \n",
            "intervention. The main task of classification with unsupervised learning, commonly \n",
            "Y. Avrithis et al. (Eds.): SAMT 2006, LNCS 4306, pp. 159 – 168, 2006. \n",
            "© Springer-Verlag Berlin Heidelberg 2006\n",
            "_____________________________________________\n",
            "page number : 2\n",
            "160  T. Piatrik and E. Izquierdo \n",
            "known as clustering, is to partition a given data set into groups (clusters) such that the \n",
            "data points in a cluster are more similar to each other than points in different clusters. \n",
            "Thus, the aim is to generate classes which allow us to discover similarities and \n",
            "differences, as well as to provide a concise summarization and visualization of the \n",
            "image content. A large number of classification algorithms have been developed in \n",
            "the past. Each of them has advantages and disadvantages [8]. However, efficient \n",
            "optimization  techniques  are  able  to  reduce  some  undesired  limitations.  The \n",
            "optimization  of  these  algorithms  is  currently  the  subject  of  active  studies  and \n",
            "promising results have started to emerge.  \n",
            "Recent developments in the optimization techniques are concentrated on natural \n",
            "and biological systems. These systems are inspired by the collaborative behavior of \n",
            "social animals such as birds, fish and ants and their formation of flocks, swarms and \n",
            "colonies. Some recent studies have pointed out that, the self-organization of neurons \n",
            "into brain-like structures, and the self-organization of ants into a swarm are similar in \n",
            "many respects [2]. Ants present a very  good natural  metaphor for evolutionary \n",
            "computation. With their small size and small number of neurons, they are not capable \n",
            "of dealing with complex tasks individually. The ant colony, on the other hand, can be \n",
            "seen  as  an  “intelligent  entity”  for  its  great  level  of  self-organization  and  the \n",
            "complexity of the tasks it performs. Their colony system inspired many researchers in \n",
            "the field of Computer Science to develop new solutions for optimization and artificial \n",
            "intelligence problems.  \n",
            "In this paper we present an approach to image partitional classification based on \n",
            "the Ant Colony Optimization (ACO) meta-heuristic. We start by briefly reviewing the \n",
            "K-Means algorithm in Section 2. Section 3 describes the characterizing aspects of the \n",
            "used  ACO  algorithm.  In  Section  4,  the  proposed  Image  Classifier  algorithm  is \n",
            "presented. Selected experimental results are given in Section 5. Conclusions and \n",
            "future work are discussed in Section 6. \n",
            "2   The K-Means Algorithm \n",
            "The K-Means algorithm is one of the most popular squared error based classification \n",
            "algorithm for partitioning N objects into K disjoint subsets S containing N objects [1]. \n",
            "j  j\n",
            "Given  a  set  of  input  patterns  X ={x ,...,x ,...,x },  where \n",
            "1 i N\n",
            "xi ={xi1,...,xif,...,xiD}T ∈ℜDrepresents a feature vector and each measure  xif  is \n",
            "said to be a feature. The aim of K-Means is the minimization of an objective function \n",
            "that is described by the following equation: \n",
            "Nj K\n",
            "J = ∑ ∑d(xi,cj) ,  (1) \n",
            "i∈S j=1\n",
            "j\n",
            "where  d(x,c ) is a similarity (distance)  measure between two objects (feature \n",
            "i j\n",
            "vectors). c is the cluster center of the objects in  S . Thus, the criterion function J \n",
            "j j\n",
            "_____________________________________________\n"
          ]
        }
      ]
    },
    {
      "cell_type": "code",
      "source": [],
      "metadata": {
        "id": "6mUdDnOpp44M"
      },
      "execution_count": null,
      "outputs": []
    }
  ]
}